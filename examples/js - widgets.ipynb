{
  "metadata": {
    "language_info": {
      "codemirror_mode": {
        "name": "javascript"
      },
      "file_extension": ".js",
      "mimetype": "text/javascript",
      "name": "javascript",
      "nbconvert_exporter": "javascript",
      "pygments_lexer": "javascript",
      "version": "es2017"
    },
    "kernelspec": {
      "name": "javascript",
      "display_name": "JavaScript",
      "language": "javascript"
    },
    "widgets": {
      "application/vnd.jupyter.widget-state+json": {
        "version_major": 2,
        "version_minor": 0,
        "state": {
          "4d6a1fcb-312b-4d03-b758-067a826e95d5": {
            "model_name": "FloatSliderModel",
            "model_module": "@jupyter-widgets/controls",
            "model_module_version": "1.5.0",
            "state": {
              "description": "$x$",
              "layout": null,
              "max": 3.141592653589793,
              "min": -3.141592653589793,
              "step": 0.1,
              "style": null,
              "value": -3,
              "tabbable": true,
              "tooltip": ""
            }
          },
          "535104a6-e58d-4e94-89ad-da46d8f7f023": {
            "model_name": "FloatSliderModel",
            "model_module": "@jupyter-widgets/controls",
            "model_module_version": "1.5.0",
            "state": {
              "description": "$\\sin{x}$",
              "layout": null,
              "max": 1,
              "min": -1,
              "step": 0.1,
              "style": null,
              "value": -0.1411200080598672,
              "tabbable": true,
              "tooltip": ""
            }
          },
          "f9ef8d0b-8a7f-4b7c-9b0b-d0566abff973": {
            "model_name": "FloatSliderModel",
            "model_module": "@jupyter-widgets/controls",
            "model_module_version": "1.5.0",
            "state": {
              "description": "$\\cos{x}$",
              "layout": null,
              "max": 1,
              "min": -1,
              "step": 0.1,
              "style": null,
              "value": -0.9899924966004454,
              "tabbable": true,
              "tooltip": ""
            }
          },
          "e64ee5a5-1e5b-446a-88ea-925a550a149f": {
            "model_name": "SelectModel",
            "model_module": "@jupyter-widgets/controls",
            "model_module_version": "1.5.0",
            "state": {
              "_options_labels": [
                "apple",
                "banana"
              ],
              "options": [
                "apple",
                "banana"
              ],
              "label": "",
              "value": 0,
              "tabbable": true,
              "tooltip": "",
              "layout": null,
              "description": "it",
              "index": 0,
              "rows": 1
            }
          },
          "354c7fe2-72d4-4d51-b67d-92ee3d264248": {
            "model_name": "SelectModel",
            "model_module": "@jupyter-widgets/controls",
            "model_module_version": "1.5.0",
            "state": {
              "_options_labels": [
                "apple",
                "banana"
              ],
              "options": [
                "apple",
                "banana"
              ],
              "label": "",
              "value": 0,
              "tabbable": true,
              "tooltip": "",
              "layout": null,
              "description": "one",
              "index": 0,
              "rows": 1
            }
          },
          "95689498-5691-4e7a-88a8-998ca263d577": {
            "model_name": "SelectModel",
            "model_module": "@jupyter-widgets/controls",
            "model_module_version": "1.5.0",
            "state": {
              "_options_labels": [
                "apple",
                "banana"
              ],
              "options": [
                "apple",
                "banana"
              ],
              "label": "",
              "value": 0,
              "tabbable": true,
              "tooltip": "",
              "layout": null,
              "description": "another",
              "index": 0,
              "rows": 1
            }
          }
        }
      }
    }
  },
  "nbformat_minor": 4,
  "nbformat": 4,
  "cells": [
    {
      "cell_type": "markdown",
      "source": "> **Please do not expect this to be a stable API**\n\nThis is an exploration of supporting comms in JupyterLite [@jtpio/jupyterlite#14](https://github.com/jtpio/jupyterlite/issues/18) built for [@jtpio/jupyterlite#141](https://github.com/jtpio/jupyterlite/pull/141).\n\n> You should be able to view this by visiting the [PR docs site](https://jupyterlite--141.org.readthedocs.build/en/141/_static/lab/index.html) \n(kindly hosted by [ReadTheDocs](https://readthedocs.org)).\n>\n> ```\n> https://jupyterlite--141.org.readthedocs.build/en/141/_static/lab/index.html\n> ```\n\n<details>\n    <summary>Notes</summary>\n    <pre>\n    # why do this?\n    \n    \n    </pre>\n</details>",
      "metadata": {}
    },
    {
      "cell_type": "markdown",
      "source": "## `FloatSliders` with `observe`",
      "metadata": {}
    },
    {
      "cell_type": "code",
      "source": "let {FloatSlider} = kernel.widgets\nself.x = FloatSlider({ description: \"$x$\", min: -Math.PI, max: Math.PI }); x.display();\nObject.entries({sin: Math.sin, cos: Math.cos}).map(([k, fn])=> {\n    self[k] = FloatSlider({ description: '$\\\\' + k + '{x}$', min: -1, max: 1});\n    x.observe(async (change) => self[k].value = fn(change.new))\n    self[k].display()\n})",
      "metadata": {
        "trusted": true
      },
      "execution_count": 1,
      "outputs": [
        {
          "output_type": "display_data",
          "data": {
            "text/plain": "{\n  \"_dom_classes\": [],\n  \"_model_module\": \"@jupyter-widgets/controls\",\n  \"_model_module_version\": \"1.5.0\",\n  \"_view_count\": null,\n  \"_view_module\": \"@jupyter-widgets/controls\",\n  \"_view_module_version\": \"1.5.0\",\n  \"_model_name\": \"FloatSliderModel\",\n  \"_view_name\": \"FloatSliderView\",\n  \"continuous_update\": true,\n  \"description\": \"$x$\",\n  \"description_tooltip\": null,\n  \"disabled\": false,\n  \"layout\": null,\n  \"max\": 3.141592653589793,\n  \"min\": -3.141592653589793,\n  \"orientation\": \"horizontal\",\n  \"readout\": true,\n  \"readout_format\": \".2f\",\n  \"step\": 0.1,\n  \"style\": null,\n  \"value\": 0,\n  \"tabbable\": true,\n  \"tooltip\": \"\"\n}",
            "application/vnd.jupyter.widget-view+json": {
              "version": "2.0",
              "version_major": 2,
              "version_minor": 0,
              "model_id": "4d6a1fcb-312b-4d03-b758-067a826e95d5"
            }
          },
          "metadata": {}
        },
        {
          "output_type": "display_data",
          "data": {
            "text/plain": "{\n  \"_dom_classes\": [],\n  \"_model_module\": \"@jupyter-widgets/controls\",\n  \"_model_module_version\": \"1.5.0\",\n  \"_view_count\": null,\n  \"_view_module\": \"@jupyter-widgets/controls\",\n  \"_view_module_version\": \"1.5.0\",\n  \"_model_name\": \"FloatSliderModel\",\n  \"_view_name\": \"FloatSliderView\",\n  \"continuous_update\": true,\n  \"description\": \"$\\\\sin{x}$\",\n  \"description_tooltip\": null,\n  \"disabled\": false,\n  \"layout\": null,\n  \"max\": 1,\n  \"min\": -1,\n  \"orientation\": \"horizontal\",\n  \"readout\": true,\n  \"readout_format\": \".2f\",\n  \"step\": 0.1,\n  \"style\": null,\n  \"value\": 0,\n  \"tabbable\": true,\n  \"tooltip\": \"\"\n}",
            "application/vnd.jupyter.widget-view+json": {
              "version": "2.0",
              "version_major": 2,
              "version_minor": 0,
              "model_id": "535104a6-e58d-4e94-89ad-da46d8f7f023"
            }
          },
          "metadata": {}
        },
        {
          "output_type": "display_data",
          "data": {
            "text/plain": "{\n  \"_dom_classes\": [],\n  \"_model_module\": \"@jupyter-widgets/controls\",\n  \"_model_module_version\": \"1.5.0\",\n  \"_view_count\": null,\n  \"_view_module\": \"@jupyter-widgets/controls\",\n  \"_view_module_version\": \"1.5.0\",\n  \"_model_name\": \"FloatSliderModel\",\n  \"_view_name\": \"FloatSliderView\",\n  \"continuous_update\": true,\n  \"description\": \"$\\\\cos{x}$\",\n  \"description_tooltip\": null,\n  \"disabled\": false,\n  \"layout\": null,\n  \"max\": 1,\n  \"min\": -1,\n  \"orientation\": \"horizontal\",\n  \"readout\": true,\n  \"readout_format\": \".2f\",\n  \"step\": 0.1,\n  \"style\": null,\n  \"value\": 0,\n  \"tabbable\": true,\n  \"tooltip\": \"\"\n}",
            "application/vnd.jupyter.widget-view+json": {
              "version": "2.0",
              "version_major": 2,
              "version_minor": 0,
              "model_id": "f9ef8d0b-8a7f-4b7c-9b0b-d0566abff973"
            }
          },
          "metadata": {}
        },
        {
          "execution_count": 1,
          "output_type": "execute_result",
          "data": {
            "text/plain": [
              null,
              null
            ]
          },
          "metadata": {}
        }
      ]
    },
    {
      "cell_type": "markdown",
      "source": "The values _should_ change when set manually.",
      "metadata": {}
    },
    {
      "cell_type": "code",
      "source": "x.value = -3",
      "metadata": {
        "trusted": true
      },
      "execution_count": 2,
      "outputs": [
        {
          "execution_count": 2,
          "output_type": "execute_result",
          "data": {
            "text/plain": -3
          },
          "metadata": {}
        }
      ]
    },
    {
      "cell_type": "markdown",
      "source": "A second copy _should_ work...",
      "metadata": {}
    },
    {
      "cell_type": "code",
      "source": "x.display()",
      "metadata": {
        "trusted": true
      },
      "execution_count": 3,
      "outputs": [
        {
          "output_type": "display_data",
          "data": {
            "text/plain": "{\n  \"_dom_classes\": [],\n  \"_model_module\": \"@jupyter-widgets/controls\",\n  \"_model_module_version\": \"1.5.0\",\n  \"_view_count\": null,\n  \"_view_module\": \"@jupyter-widgets/controls\",\n  \"_view_module_version\": \"1.5.0\",\n  \"_model_name\": \"FloatSliderModel\",\n  \"_view_name\": \"FloatSliderView\",\n  \"continuous_update\": true,\n  \"description\": \"$x$\",\n  \"description_tooltip\": null,\n  \"disabled\": false,\n  \"layout\": null,\n  \"max\": 3.141592653589793,\n  \"min\": -3.141592653589793,\n  \"orientation\": \"horizontal\",\n  \"readout\": true,\n  \"readout_format\": \".2f\",\n  \"step\": 0.1,\n  \"style\": null,\n  \"value\": -3,\n  \"tabbable\": true,\n  \"tooltip\": \"\"\n}",
            "application/vnd.jupyter.widget-view+json": {
              "version": "2.0",
              "version_major": 2,
              "version_minor": 0,
              "model_id": "4d6a1fcb-312b-4d03-b758-067a826e95d5"
            }
          },
          "metadata": {}
        },
        {
          "execution_count": 3,
          "output_type": "execute_result",
          "data": {},
          "metadata": {}
        }
      ]
    },
    {
      "cell_type": "markdown",
      "source": "## `Select`",
      "metadata": {}
    },
    {
      "cell_type": "code",
      "source": "let { Select } = kernel.widgets\noptions = [\"apple\", \"banana\"]\nself.it = it = Select({rows: 1, description: \"it\", options, _options_labels: options})\nit.display()",
      "metadata": {
        "trusted": true
      },
      "execution_count": 4,
      "outputs": [
        {
          "output_type": "display_data",
          "data": {
            "text/plain": "{\n  \"_dom_classes\": [],\n  \"_model_module\": \"@jupyter-widgets/controls\",\n  \"_model_module_version\": \"1.5.0\",\n  \"_view_count\": null,\n  \"_view_module\": \"@jupyter-widgets/controls\",\n  \"_view_module_version\": \"1.5.0\",\n  \"_model_name\": \"SelectModel\",\n  \"_options_labels\": [\n    \"apple\",\n    \"banana\"\n  ],\n  \"_view_name\": \"SelectView\",\n  \"options\": [\n    \"apple\",\n    \"banana\"\n  ],\n  \"label\": \"\",\n  \"value\": 0,\n  \"tabbable\": true,\n  \"tooltip\": \"\",\n  \"layout\": null,\n  \"description\": \"it\",\n  \"description_tooltip\": null,\n  \"disabled\": false,\n  \"index\": 0,\n  \"rows\": 1\n}",
            "application/vnd.jupyter.widget-view+json": {
              "version": "2.0",
              "version_major": 2,
              "version_minor": 0,
              "model_id": "e64ee5a5-1e5b-446a-88ea-925a550a149f"
            }
          },
          "metadata": {}
        },
        {
          "execution_count": 4,
          "output_type": "execute_result",
          "data": {},
          "metadata": {}
        }
      ]
    },
    {
      "cell_type": "markdown",
      "source": "## `link`",
      "metadata": {}
    },
    {
      "cell_type": "code",
      "source": "let { link } = kernel.widgets\nlet { Select } = kernel.widgets\noptions = [\"apple\", \"banana\"]\nlet [it1, it2] = [\"one\", \"another\"].map((d) => Select({rows: 1, description: d, options, _options_labels: options}))\nself.it1 = it1\nself.it2 = it2\nlink([it1, \"index\"], [it2, \"index\"])\nit1.display()\nit2.display()",
      "metadata": {
        "trusted": true
      },
      "execution_count": 5,
      "outputs": [
        {
          "output_type": "display_data",
          "data": {
            "text/plain": "{\n  \"_dom_classes\": [],\n  \"_model_module\": \"@jupyter-widgets/controls\",\n  \"_model_module_version\": \"1.5.0\",\n  \"_view_count\": null,\n  \"_view_module\": \"@jupyter-widgets/controls\",\n  \"_view_module_version\": \"1.5.0\",\n  \"_model_name\": \"SelectModel\",\n  \"_options_labels\": [\n    \"apple\",\n    \"banana\"\n  ],\n  \"_view_name\": \"SelectView\",\n  \"options\": [\n    \"apple\",\n    \"banana\"\n  ],\n  \"label\": \"\",\n  \"value\": 0,\n  \"tabbable\": true,\n  \"tooltip\": \"\",\n  \"layout\": null,\n  \"description\": \"one\",\n  \"description_tooltip\": null,\n  \"disabled\": false,\n  \"index\": 0,\n  \"rows\": 1\n}",
            "application/vnd.jupyter.widget-view+json": {
              "version": "2.0",
              "version_major": 2,
              "version_minor": 0,
              "model_id": "354c7fe2-72d4-4d51-b67d-92ee3d264248"
            }
          },
          "metadata": {}
        },
        {
          "output_type": "display_data",
          "data": {
            "text/plain": "{\n  \"_dom_classes\": [],\n  \"_model_module\": \"@jupyter-widgets/controls\",\n  \"_model_module_version\": \"1.5.0\",\n  \"_view_count\": null,\n  \"_view_module\": \"@jupyter-widgets/controls\",\n  \"_view_module_version\": \"1.5.0\",\n  \"_model_name\": \"SelectModel\",\n  \"_options_labels\": [\n    \"apple\",\n    \"banana\"\n  ],\n  \"_view_name\": \"SelectView\",\n  \"options\": [\n    \"apple\",\n    \"banana\"\n  ],\n  \"label\": \"\",\n  \"value\": 0,\n  \"tabbable\": true,\n  \"tooltip\": \"\",\n  \"layout\": null,\n  \"description\": \"another\",\n  \"description_tooltip\": null,\n  \"disabled\": false,\n  \"index\": 0,\n  \"rows\": 1\n}",
            "application/vnd.jupyter.widget-view+json": {
              "version": "2.0",
              "version_major": 2,
              "version_minor": 0,
              "model_id": "95689498-5691-4e7a-88a8-998ca263d577"
            }
          },
          "metadata": {}
        },
        {
          "execution_count": 5,
          "output_type": "execute_result",
          "data": {},
          "metadata": {}
        }
      ]
    }
  ]
}
